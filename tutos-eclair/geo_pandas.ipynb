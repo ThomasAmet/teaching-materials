{
 "cells": [
  {
   "cell_type": "code",
   "execution_count": null,
   "id": "58ce4148-96af-489f-a3b1-9ff3e804c661",
   "metadata": {},
   "outputs": [],
   "source": [
    "# ### README ####\n",
    "# \n",
    "# Make sure to have requests package to run this code\n",
    "# To install 'requests', use the following command:\n",
    "# $pip install requests OR $conda install requests\n",
    "#\n",
    "\n",
    "import requests\n",
    "\n",
    "headers = {\n",
    "    'authority': 'api.opencagedata.com',\n",
    "    'sec-ch-ua': '\"Chromium\";v=\"94\", \"Google Chrome\";v=\"94\", \";Not A Brand\";v=\"99\"',\n",
    "    'accept': 'application/json, text/javascript, */*; q=0.01',\n",
    "    'dnt': '1',\n",
    "    'sec-ch-ua-mobile': '?0',\n",
    "    'user-agent': 'Mozilla/5.0 (Macintosh; Intel Mac OS X 10_15_7) AppleWebKit/537.36 (KHTML, like Gecko) Chrome/94.0.4606.61 Safari/537.36',\n",
    "    'sec-ch-ua-platform': '\"macOS\"',\n",
    "    'origin': 'https://www.coordonnees-gps.fr',\n",
    "    'sec-fetch-site': 'cross-site',\n",
    "    'sec-fetch-mode': 'cors',\n",
    "    'sec-fetch-dest': 'empty',\n",
    "    'referer': 'https://www.coordonnees-gps.fr/',\n",
    "    'accept-language': 'fr-FR,fr;q=0.9,en-US;q=0.8,en;q=0.7',\n",
    "}\n",
    "\n",
    "params = (\n",
    "    ('q', '29.883056 -97.941111'),\n",
    "    ('key', 'a1674daf25f54056a7c8047ca1742c22'),\n",
    "    ('no_annotations', '1'),\n",
    "    ('language', 'fr'),\n",
    ")\n",
    "\n",
    "response = requests.get('https://api.opencagedata.com/geocode/v1/json', headers=headers, params=params)\n",
    "json = response.json()\n",
    "\n",
    "keys = ['country_code', 'postcode', 'town', 'state', 'state_code']\n",
    "[json.get('results')[0].get('components').get(key) for key in keys]"
   ]
  }
 ],
 "metadata": {
  "kernelspec": {
   "display_name": "sandbox",
   "language": "python",
   "name": "sandbox"
  },
  "language_info": {
   "codemirror_mode": {
    "name": "ipython",
    "version": 3
   },
   "file_extension": ".py",
   "mimetype": "text/x-python",
   "name": "python",
   "nbconvert_exporter": "python",
   "pygments_lexer": "ipython3",
   "version": "3.9.18"
  }
 },
 "nbformat": 4,
 "nbformat_minor": 5
}
